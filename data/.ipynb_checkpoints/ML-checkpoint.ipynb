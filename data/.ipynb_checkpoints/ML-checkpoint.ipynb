{
 "cells": [
  {
   "cell_type": "code",
   "execution_count": null,
   "id": "e2f0e510-68c1-449d-baf0-09a58d92bb61",
   "metadata": {},
   "outputs": [],
   "source": [
    "#importing pandas as pd \n",
    "import pandas as pd \n",
    "\n",
    "# Read and store content \n",
    "# of an excel file \n",
    "read_file = pd.read_excel (\"Train.xlsx\") \n",
    "\n",
    "# Write the dataframe object \n",
    "# into csv file \n",
    "read_file.to_csv (\"Train.csv\", \n",
    "\t\t\t\tindex = None, \n",
    "\t\t\t\theader=True) \n",
    "\t\n",
    "# read csv file and convert \n",
    "# into a dataframe object \n",
    "df = pd.DataFrame(pd.read_csv(\"Train.csv\")) \n",
    "\n",
    "# show the dataframe \n",
    "df"
   ]
  }
 ],
 "metadata": {
  "kernelspec": {
   "display_name": "Python 3 (ipykernel)",
   "language": "python",
   "name": "python3"
  },
  "language_info": {
   "codemirror_mode": {
    "name": "ipython",
    "version": 3
   },
   "file_extension": ".py",
   "mimetype": "text/x-python",
   "name": "python",
   "nbconvert_exporter": "python",
   "pygments_lexer": "ipython3",
   "version": "3.11.7"
  }
 },
 "nbformat": 4,
 "nbformat_minor": 5
}
